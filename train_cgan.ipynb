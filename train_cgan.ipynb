{
 "cells": [
  {
   "cell_type": "code",
   "execution_count": null,
   "metadata": {},
   "outputs": [],
   "source": [
    "# If running in google colab run this cell as well\n",
    "# ! git clone https://github.com/nicolas-aagnes/few-shot-cgan.git\n",
    "# %cd few-shot-cgan\n",
    "# ! pip install --upgrade pip setuptools\n",
    "# ! pip install -r requirements.txt"
   ]
  },
  {
   "cell_type": "markdown",
   "metadata": {},
   "source": [
    "# Imports"
   ]
  },
  {
   "cell_type": "code",
   "execution_count": null,
   "metadata": {},
   "outputs": [],
   "source": [
    "%load_ext autoreload\n",
    "%autoreload 2"
   ]
  },
  {
   "cell_type": "code",
   "execution_count": null,
   "metadata": {},
   "outputs": [],
   "source": [
    "import argparse\n",
    "import os\n",
    "import random\n",
    "import torch\n",
    "import torch.nn as nn\n",
    "import torch.nn.parallel\n",
    "import torch.backends.cudnn as cudnn\n",
    "import torch.optim as optim\n",
    "import torch.utils.data\n",
    "import torch.nn.functional as F\n",
    "import torchvision.utils as vutils\n",
    "import torchvision.transforms as transforms\n",
    "\n",
    "from datasets.noisy_mnist import NoisyMNIST\n",
    "from models.generator import ConditionalGenerator\n",
    "from models.discriminator import ConditionalDiscriminator\n",
    "from models import utils\n",
    "\n",
    "import matplotlib.pyplot as plt"
   ]
  },
  {
   "cell_type": "markdown",
   "metadata": {},
   "source": [
    "# Global variables"
   ]
  },
  {
   "cell_type": "code",
   "execution_count": null,
   "metadata": {},
   "outputs": [],
   "source": [
    "SEED = 0\n",
    "DATAROOT = \"data\"\n",
    "BATCH_SIZE = 128\n",
    "WORKERS = 1\n",
    "NZ = 100\n",
    "NGF = 64\n",
    "NDF = 64\n",
    "NITER = 5\n",
    "LR = 0.0002\n",
    "BETA1 = 0.5\n",
    "DEVICE = torch.device(\"cuda\" if torch.cuda.is_available() else \"cpu\")\n",
    "\n",
    "random.seed(SEED)\n",
    "torch.manual_seed(SEED);"
   ]
  },
  {
   "cell_type": "markdown",
   "metadata": {},
   "source": [
    "# Data"
   ]
  },
  {
   "cell_type": "code",
   "execution_count": null,
   "metadata": {},
   "outputs": [],
   "source": [
    "dataset = NoisyMNIST(dataset_size=60000, noise_level=0.0, root=DATAROOT)\n",
    "dataloader = torch.utils.data.DataLoader(\n",
    "    dataset,\n",
    "    batch_size=BATCH_SIZE,\n",
    "    shuffle=True,\n",
    "    num_workers=0\n",
    ")"
   ]
  },
  {
   "cell_type": "code",
   "execution_count": null,
   "metadata": {},
   "outputs": [],
   "source": [
    "def plot_batch(images, labels):\n",
    "    images, labels = images[:16], labels[:16]\n",
    "    \n",
    "    fig = plt.figure(figsize=(10, 10))\n",
    "\n",
    "    for i in range(16):\n",
    "        ax = plt.subplot(4, 4, i + 1)\n",
    "        plt.tight_layout()\n",
    "        ax.set_title(f\"Label: {labels[i]}\")\n",
    "        ax.axis('off')\n",
    "        plt.imshow(images[i].squeeze())\n",
    "\n",
    "    plt.subplots_adjust(wspace=0.1, hspace=0.1)\n",
    "    plt.show()\n",
    "\n",
    "plot_batch(*next(iter(dataloader)))"
   ]
  },
  {
   "cell_type": "markdown",
   "metadata": {},
   "source": [
    "# Models"
   ]
  },
  {
   "cell_type": "code",
   "execution_count": null,
   "metadata": {},
   "outputs": [],
   "source": [
    "netG = ConditionalGenerator(dataset.num_classes, NZ, NGF, dataset.num_channels, dataset.output_shape).to(DEVICE)\n",
    "netG.apply(utils.weights_init)\n",
    "netG"
   ]
  },
  {
   "cell_type": "code",
   "execution_count": null,
   "metadata": {},
   "outputs": [],
   "source": [
    "netD = ConditionalDiscriminator(dataset.num_classes, dataset.num_channels, NDF).to(DEVICE)\n",
    "netD.apply(utils.weights_init)\n",
    "netD;"
   ]
  },
  {
   "cell_type": "markdown",
   "metadata": {},
   "source": [
    "# Train"
   ]
  },
  {
   "cell_type": "code",
   "execution_count": null,
   "metadata": {},
   "outputs": [],
   "source": [
    "criterion = nn.BCELoss()\n",
    "\n",
    "real_label, fake_label = 1, 0\n",
    "fixed_noise = torch.randn(BATCH_SIZE, NZ, 1, 1, device=DEVICE)"
   ]
  },
  {
   "cell_type": "code",
   "execution_count": null,
   "metadata": {},
   "outputs": [],
   "source": [
    "optimizerD = optim.Adam(netD.parameters(), lr=LR, betas=(BETA1, 0.999))\n",
    "optimizerG = optim.Adam(netG.parameters(), lr=LR, betas=(BETA1, 0.999))"
   ]
  },
  {
   "cell_type": "code",
   "execution_count": null,
   "metadata": {},
   "outputs": [],
   "source": [
    "for epoch in range(NITER):\n",
    "    for i, (images, labels) in enumerate(dataloader, 0):\n",
    "        one_hot_labels = torch.nn.functional.one_hot(labels, num_classes=10).to(DEVICE)\n",
    "        ############################\n",
    "        # (1) Update D network: maximize log(D(x)) + log(1 - D(G(z)))\n",
    "        ###########################\n",
    "        # train with real\n",
    "        netD.zero_grad()\n",
    "        images = images.to(DEVICE)\n",
    "        batch_size = images.shape[0]\n",
    "        label = torch.full(\n",
    "            (batch_size,), real_label, dtype=images.dtype, device=DEVICE\n",
    "        )\n",
    "\n",
    "        output = netD((images, one_hot_labels))\n",
    "        errD_real = criterion(output, label)\n",
    "        errD_real.backward()\n",
    "        D_x = output.mean().item()\n",
    "\n",
    "        # train with fake\n",
    "        noise = torch.randn(batch_size, NZ, device=DEVICE)\n",
    "        conditional_noise = torch.hstack((noise, one_hot_labels))\n",
    "        fake = netG(conditional_noise)\n",
    "        label.fill_(fake_label)\n",
    "        output = netD((fake.detach(), one_hot_labels))\n",
    "        errD_fake = criterion(output, label)\n",
    "        errD_fake.backward()\n",
    "        D_G_z1 = output.mean().item()\n",
    "        errD = errD_real + errD_fake\n",
    "        optimizerD.step()\n",
    "\n",
    "        ############################\n",
    "        # (2) Update G network: maximize log(D(G(z)))\n",
    "        ###########################\n",
    "        netG.zero_grad()\n",
    "        label.fill_(real_label)  # fake labels are real for generator cost\n",
    "        output = netD((fake, one_hot_labels))\n",
    "        errG = criterion(output, label)\n",
    "        errG.backward()\n",
    "        D_G_z2 = output.mean().item()\n",
    "        optimizerG.step()\n",
    "\n",
    "        if i % 100 == 0:\n",
    "            print(\n",
    "                f\"[{epoch+1}/{NITER}][{i}/{len(dataloader)}] Loss D: {errD.item():.4f} Loss_G {errG.item():.4f}\"\n",
    "                + f\" D(x): {D_x:.4f} D(g(z)): {D_G_z1:.4f} / {D_G_z2:.4f}\"\n",
    "            )"
   ]
  },
  {
   "cell_type": "markdown",
   "metadata": {},
   "source": [
    "# Results"
   ]
  },
  {
   "cell_type": "code",
   "execution_count": null,
   "metadata": {},
   "outputs": [],
   "source": [
    "conditional_fixed_noise = torch.hstack((fixed_noise), F.one_hot(torch.zeros(BATCH_SIZE), num_classes=10))\n",
    "fake = netG(conditional_fixed_noise)\n",
    "plot_batch(fake.detach() * 0.5 + 0.5, label.detach())"
   ]
  }
 ],
 "metadata": {
  "interpreter": {
   "hash": "9472dc1d8d49f8ced40cb2df4aa013bc8c8b5c5066b910c683604d0125d01e9d"
  },
  "kernelspec": {
   "display_name": "Python 3.7.9 64-bit ('.venv': venv)",
   "name": "python3"
  },
  "language_info": {
   "codemirror_mode": {
    "name": "ipython",
    "version": 3
   },
   "file_extension": ".py",
   "mimetype": "text/x-python",
   "name": "python",
   "nbconvert_exporter": "python",
   "pygments_lexer": "ipython3",
   "version": "3.7.9"
  },
  "orig_nbformat": 4
 },
 "nbformat": 4,
 "nbformat_minor": 2
}
